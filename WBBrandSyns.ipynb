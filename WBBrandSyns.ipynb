{
  "nbformat": 4,
  "nbformat_minor": 0,
  "metadata": {
    "colab": {
      "provenance": [],
      "authorship_tag": "ABX9TyM4bLRqHEq68kGUdIIJHzA2",
      "include_colab_link": true
    },
    "kernelspec": {
      "name": "python3",
      "display_name": "Python 3"
    },
    "language_info": {
      "name": "python"
    }
  },
  "cells": [
    {
      "cell_type": "markdown",
      "metadata": {
        "id": "view-in-github",
        "colab_type": "text"
      },
      "source": [
        "<a href=\"https://colab.research.google.com/github/juliawol/WB_Embedder/blob/main/WBBrandSyns.ipynb\" target=\"_parent\"><img src=\"https://colab.research.google.com/assets/colab-badge.svg\" alt=\"Open In Colab\"/></a>"
      ]
    },
    {
      "cell_type": "code",
      "source": [
        "import itertools\n",
        "import pandas as pd\n",
        "\n",
        "# List of 100 popular brand names\n",
        "brands = [\n",
        "    \"Nike\", \"Adidas\", \"Apple\", \"Samsung\", \"Sony\", \"Microsoft\", \"Gucci\", \"Louis Vuitton\",\n",
        "    \"Puma\", \"Under Armour\", \"Reebok\", \"Coca-Cola\", \"Pepsi\", \"Amazon\", \"Google\",\n",
        "    \"Facebook\", \"Instagram\", \"Twitter\", \"YouTube\", \"Tesla\", \"BMW\", \"Mercedes-Benz\",\n",
        "    \"Audi\", \"Lamborghini\", \"Ferrari\", \"Rolex\", \"Omega\", \"Cartier\", \"Prada\", \"Chanel\",\n",
        "    \"Zara\", \"H&M\", \"IKEA\", \"Starbucks\", \"McDonald's\", \"Burger King\", \"KFC\", \"Subway\",\n",
        "    \"Domino's\", \"Pizza Hut\", \"Uber\", \"Lyft\", \"Airbnb\", \"Netflix\", \"Disney\", \"Marvel\",\n",
        "    \"DC Comics\", \"Nikon\", \"Canon\", \"GoPro\", \"Intel\", \"AMD\", \"Nvidia\", \"ASUS\", \"HP\",\n",
        "    \"Dell\", \"Lenovo\", \"Acer\", \"Toshiba\", \"Panasonic\", \"LG\", \"Philips\", \"Hitachi\",\n",
        "    \"Bose\", \"JBL\", \"Beats\", \"Dyson\", \"Levi's\", \"Calvin Klein\", \"Tommy Hilfiger\",\n",
        "    \"Ralph Lauren\", \"Vans\", \"New Balance\", \"Converse\", \"Crocs\", \"Dr. Martens\",\n",
        "    \"Herschel\", \"Patagonia\", \"North Face\", \"Columbia\", \"Timberland\", \"Lego\",\n",
        "    \"PlayStation\", \"Xbox\", \"Nintendo\", \"Epic Games\", \"Steam\", \"Slack\", \"Zoom\",\n",
        "    \"Spotify\", \"TikTok\", \"Snapchat\", \"WeChat\", \"Alipay\", \"PayPal\", \"Stripe\", \"Square\"\n",
        "]\n",
        "\n",
        "# Transliteration and transcription rules\n",
        "def generate_synonyms(brand):\n",
        "    transliteration = {\n",
        "        \"a\": [\"а\"], \"b\": [\"б\"], \"c\": [\"к\", \"ц\"], \"d\": [\"д\"], \"e\": [\"е\", \"э\"], \"f\": [\"ф\"],\n",
        "        \"g\": [\"г\", \"дж\"], \"h\": [\"х\"], \"i\": [\"и\", \"ай\"], \"j\": [\"дж\"], \"k\": [\"к\"], \"l\": [\"л\"],\n",
        "        \"m\": [\"м\"], \"n\": [\"н\"], \"o\": [\"о\"], \"p\": [\"п\"], \"q\": [\"к\"], \"r\": [\"р\"], \"s\": [\"с\", \"з\"],\n",
        "        \"t\": [\"т\"], \"u\": [\"у\"], \"v\": [\"в\"], \"w\": [\"в\"], \"x\": [\"кс\", \"з\"], \"y\": [\"й\", \"и\"],\n",
        "        \"z\": [\"з\"]\n",
        "    }\n",
        "    brand_lower = brand.lower()\n",
        "    options = []\n",
        "    for char in brand_lower:\n",
        "        options.append(transliteration.get(char, [char]))\n",
        "    # Generate all combinations\n",
        "    transliterated_synonyms = list(itertools.product(*options))\n",
        "    transliterated_synonyms = [\"\".join(option).capitalize() for option in transliterated_synonyms]\n",
        "    return list(set(transliterated_synonyms))  # Remove duplicates\n",
        "\n",
        "# Generate synonyms for all brands\n",
        "synonym_data = []\n",
        "for brand in brands:\n",
        "    synonyms = generate_synonyms(brand)\n",
        "    for synonym in synonyms:\n",
        "        synonym_data.append({\"Brand\": brand, \"Synonym\": synonym})\n",
        "\n",
        "# Save to CSV\n",
        "output_file = \"brand_synonyms.csv\"\n",
        "df = pd.DataFrame(synonym_data)\n",
        "df.to_csv(output_file, index=False, encoding=\"utf-8\")\n",
        "\n",
        "print(f\"Synonyms generated and saved to {output_file}\")\n"
      ],
      "metadata": {
        "id": "Zp0D3pKbJ8TP"
      },
      "execution_count": null,
      "outputs": []
    }
  ]
}